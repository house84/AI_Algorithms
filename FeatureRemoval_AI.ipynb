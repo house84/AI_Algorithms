{
  "nbformat": 4,
  "nbformat_minor": 0,
  "metadata": {
    "colab": {
      "name": "Activity19FeatureRemoval.ipynb",
      "provenance": [],
      "collapsed_sections": []
    },
    "kernelspec": {
      "name": "python3",
      "display_name": "Python 3"
    }
  },
  "cells": [
    {
      "cell_type": "code",
      "metadata": {
        "id": "X-0lhDmQ4Oy3",
        "colab": {
          "resources": {
            "http://localhost:8080/nbextensions/google.colab/files.js": {
              "data": "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",
              "ok": true,
              "headers": [
                [
                  "content-type",
                  "application/javascript"
                ]
              ],
              "status": 200,
              "status_text": ""
            }
          },
          "base_uri": "https://localhost:8080/",
          "height": 92
        },
        "outputId": "02d237da-dc23-46c6-a77b-bbb8a27e8b56"
      },
      "source": [
        "from google.colab import files\n",
        "uploaded = files.upload()"
      ],
      "execution_count": null,
      "outputs": [
        {
          "output_type": "display_data",
          "data": {
            "text/html": [
              "\n",
              "     <input type=\"file\" id=\"files-e4b5d915-8816-4c0a-a47b-bbe0d7f7216f\" name=\"files[]\" multiple disabled />\n",
              "     <output id=\"result-e4b5d915-8816-4c0a-a47b-bbe0d7f7216f\">\n",
              "      Upload widget is only available when the cell has been executed in the\n",
              "      current browser session. Please rerun this cell to enable.\n",
              "      </output>\n",
              "      <script src=\"/nbextensions/google.colab/files.js\"></script> "
            ],
            "text/plain": [
              "<IPython.core.display.HTML object>"
            ]
          },
          "metadata": {
            "tags": []
          }
        },
        {
          "output_type": "stream",
          "text": [
            "Saving ProjDataAccidentDUICategorized.csv to ProjDataAccidentDUICategorized.csv\n"
          ],
          "name": "stdout"
        }
      ]
    },
    {
      "cell_type": "code",
      "metadata": {
        "id": "bVR0yzte41e4",
        "colab": {
          "base_uri": "https://localhost:8080/",
          "height": 257
        },
        "outputId": "d682823e-0420-4a53-d034-cdc65b931438"
      },
      "source": [
        "import pandas as pd\n",
        "data = pd.read_csv('ProjDataAccidentDUICategorized.csv', delimiter=',', dtype=\"category\") \n",
        "\n",
        "data.head()\n",
        "#print(data.dtypes)"
      ],
      "execution_count": null,
      "outputs": [
        {
          "output_type": "execute_result",
          "data": {
            "text/html": [
              "<div>\n",
              "<style scoped>\n",
              "    .dataframe tbody tr th:only-of-type {\n",
              "        vertical-align: middle;\n",
              "    }\n",
              "\n",
              "    .dataframe tbody tr th {\n",
              "        vertical-align: top;\n",
              "    }\n",
              "\n",
              "    .dataframe thead th {\n",
              "        text-align: right;\n",
              "    }\n",
              "</style>\n",
              "<table border=\"1\" class=\"dataframe\">\n",
              "  <thead>\n",
              "    <tr style=\"text-align: right;\">\n",
              "      <th></th>\n",
              "      <th>STATE</th>\n",
              "      <th>PVH</th>\n",
              "      <th>PERNOTMVIT</th>\n",
              "      <th>PERMVIT</th>\n",
              "      <th>PERSONS</th>\n",
              "      <th>DAY</th>\n",
              "      <th>MONTH</th>\n",
              "      <th>DAYofWEEK</th>\n",
              "      <th>NHS</th>\n",
              "      <th>Urban(1)orRural(2)</th>\n",
              "      <th>FUNC_SYS</th>\n",
              "      <th>RD_OWNER</th>\n",
              "      <th>ROUTE</th>\n",
              "      <th>SP_JUR</th>\n",
              "      <th>HARM_EV</th>\n",
              "      <th>MAN_COLL</th>\n",
              "      <th>RELJCT1</th>\n",
              "      <th>RELJCT2</th>\n",
              "      <th>TYP_INT</th>\n",
              "      <th>WRK_ZONE</th>\n",
              "      <th>REL_ROAD</th>\n",
              "      <th>LGT_COND</th>\n",
              "      <th>WEATHER1</th>\n",
              "      <th>CF1</th>\n",
              "      <th>CF2</th>\n",
              "      <th>CF3</th>\n",
              "      <th>FATALS</th>\n",
              "      <th>MinutesOfDay</th>\n",
              "      <th>Drunk Driver Involved</th>\n",
              "    </tr>\n",
              "  </thead>\n",
              "  <tbody>\n",
              "    <tr>\n",
              "      <th>0</th>\n",
              "      <td>1</td>\n",
              "      <td>1</td>\n",
              "      <td>0</td>\n",
              "      <td>1</td>\n",
              "      <td>1</td>\n",
              "      <td>5</td>\n",
              "      <td>1</td>\n",
              "      <td>6</td>\n",
              "      <td>1</td>\n",
              "      <td>1</td>\n",
              "      <td>1</td>\n",
              "      <td>1</td>\n",
              "      <td>1</td>\n",
              "      <td>0</td>\n",
              "      <td>14</td>\n",
              "      <td>0</td>\n",
              "      <td>0</td>\n",
              "      <td>1</td>\n",
              "      <td>1</td>\n",
              "      <td>0</td>\n",
              "      <td>2</td>\n",
              "      <td>4</td>\n",
              "      <td>1</td>\n",
              "      <td>0</td>\n",
              "      <td>0</td>\n",
              "      <td>0</td>\n",
              "      <td>1</td>\n",
              "      <td>2</td>\n",
              "      <td>0</td>\n",
              "    </tr>\n",
              "    <tr>\n",
              "      <th>1</th>\n",
              "      <td>1</td>\n",
              "      <td>0</td>\n",
              "      <td>0</td>\n",
              "      <td>2</td>\n",
              "      <td>2</td>\n",
              "      <td>8</td>\n",
              "      <td>1</td>\n",
              "      <td>2</td>\n",
              "      <td>1</td>\n",
              "      <td>2</td>\n",
              "      <td>1</td>\n",
              "      <td>1</td>\n",
              "      <td>1</td>\n",
              "      <td>0</td>\n",
              "      <td>38</td>\n",
              "      <td>0</td>\n",
              "      <td>1</td>\n",
              "      <td>12</td>\n",
              "      <td>1</td>\n",
              "      <td>0</td>\n",
              "      <td>3</td>\n",
              "      <td>2</td>\n",
              "      <td>2</td>\n",
              "      <td>20</td>\n",
              "      <td>0</td>\n",
              "      <td>0</td>\n",
              "      <td>2</td>\n",
              "      <td>1</td>\n",
              "      <td>0</td>\n",
              "    </tr>\n",
              "    <tr>\n",
              "      <th>2</th>\n",
              "      <td>1</td>\n",
              "      <td>0</td>\n",
              "      <td>0</td>\n",
              "      <td>2</td>\n",
              "      <td>2</td>\n",
              "      <td>8</td>\n",
              "      <td>1</td>\n",
              "      <td>2</td>\n",
              "      <td>1</td>\n",
              "      <td>1</td>\n",
              "      <td>1</td>\n",
              "      <td>1</td>\n",
              "      <td>1</td>\n",
              "      <td>0</td>\n",
              "      <td>24</td>\n",
              "      <td>0</td>\n",
              "      <td>0</td>\n",
              "      <td>1</td>\n",
              "      <td>1</td>\n",
              "      <td>1</td>\n",
              "      <td>4</td>\n",
              "      <td>2</td>\n",
              "      <td>10</td>\n",
              "      <td>0</td>\n",
              "      <td>0</td>\n",
              "      <td>0</td>\n",
              "      <td>1</td>\n",
              "      <td>1</td>\n",
              "      <td>0</td>\n",
              "    </tr>\n",
              "    <tr>\n",
              "      <th>3</th>\n",
              "      <td>1</td>\n",
              "      <td>0</td>\n",
              "      <td>0</td>\n",
              "      <td>2</td>\n",
              "      <td>2</td>\n",
              "      <td>9</td>\n",
              "      <td>1</td>\n",
              "      <td>3</td>\n",
              "      <td>1</td>\n",
              "      <td>1</td>\n",
              "      <td>1</td>\n",
              "      <td>1</td>\n",
              "      <td>1</td>\n",
              "      <td>0</td>\n",
              "      <td>24</td>\n",
              "      <td>0</td>\n",
              "      <td>0</td>\n",
              "      <td>1</td>\n",
              "      <td>1</td>\n",
              "      <td>0</td>\n",
              "      <td>4</td>\n",
              "      <td>1</td>\n",
              "      <td>10</td>\n",
              "      <td>0</td>\n",
              "      <td>0</td>\n",
              "      <td>0</td>\n",
              "      <td>1</td>\n",
              "      <td>3</td>\n",
              "      <td>0</td>\n",
              "    </tr>\n",
              "    <tr>\n",
              "      <th>4</th>\n",
              "      <td>1</td>\n",
              "      <td>0</td>\n",
              "      <td>0</td>\n",
              "      <td>2</td>\n",
              "      <td>2</td>\n",
              "      <td>19</td>\n",
              "      <td>1</td>\n",
              "      <td>6</td>\n",
              "      <td>1</td>\n",
              "      <td>2</td>\n",
              "      <td>1</td>\n",
              "      <td>1</td>\n",
              "      <td>1</td>\n",
              "      <td>0</td>\n",
              "      <td>12</td>\n",
              "      <td>1</td>\n",
              "      <td>0</td>\n",
              "      <td>1</td>\n",
              "      <td>1</td>\n",
              "      <td>0</td>\n",
              "      <td>1</td>\n",
              "      <td>1</td>\n",
              "      <td>1</td>\n",
              "      <td>0</td>\n",
              "      <td>0</td>\n",
              "      <td>0</td>\n",
              "      <td>1</td>\n",
              "      <td>2</td>\n",
              "      <td>0</td>\n",
              "    </tr>\n",
              "  </tbody>\n",
              "</table>\n",
              "</div>"
            ],
            "text/plain": [
              "  STATE PVH PERNOTMVIT  PERMVIT  ... CF3 FATALS MinutesOfDay Drunk Driver Involved\n",
              "0     1   1           0       1  ...   0      1            2                     0\n",
              "1     1   0           0       2  ...   0      2            1                     0\n",
              "2     1   0           0       2  ...   0      1            1                     0\n",
              "3     1   0           0       2  ...   0      1            3                     0\n",
              "4     1   0           0       2  ...   0      1            2                     0\n",
              "\n",
              "[5 rows x 29 columns]"
            ]
          },
          "metadata": {
            "tags": []
          },
          "execution_count": 3
        }
      ]
    },
    {
      "cell_type": "code",
      "metadata": {
        "id": "z_hQTWdW5Gvm"
      },
      "source": [
        "import numpy as np\n",
        "dataset = np.genfromtxt('ProjDataAccidentDUICategorized.csv', delimiter=\",\", skip_header = True) "
      ],
      "execution_count": null,
      "outputs": []
    },
    {
      "cell_type": "code",
      "metadata": {
        "id": "v_r7s__R5ZmT",
        "colab": {
          "base_uri": "https://localhost:8080/",
          "height": 223
        },
        "outputId": "4b398bcd-ddb6-4ee3-a95a-f6fd40f8eb41"
      },
      "source": [
        "#Shuffle and Display\n",
        "np.set_printoptions(precision = 2)\n",
        "np.set_printoptions(formatter = {'int': '{: 1f}'.format})\n",
        "\n",
        "#shuffle\n",
        "#import random\n",
        "#np.random.shuffle(dataset)\n",
        "\n",
        "print(dataset.shape)\n",
        "print('')\n",
        "print(dataset[0:5])"
      ],
      "execution_count": null,
      "outputs": [
        {
          "output_type": "stream",
          "text": [
            "(33654, 29)\n",
            "\n",
            "[[ 1.  1.  0.  1.  1.  5.  1.  6.  1.  1.  1.  1.  1.  0. 14.  0.  0.  1.\n",
            "   1.  0.  2.  4.  1.  0.  0.  0.  1.  2.  0.]\n",
            " [ 1.  0.  0.  2.  2.  8.  1.  2.  1.  2.  1.  1.  1.  0. 38.  0.  1. 12.\n",
            "   1.  0.  3.  2.  2. 20.  0.  0.  2.  1.  0.]\n",
            " [ 1.  0.  0.  2.  2.  8.  1.  2.  1.  1.  1.  1.  1.  0. 24.  0.  0.  1.\n",
            "   1.  1.  4.  2. 10.  0.  0.  0.  1.  1.  0.]\n",
            " [ 1.  0.  0.  2.  2.  9.  1.  3.  1.  1.  1.  1.  1.  0. 24.  0.  0.  1.\n",
            "   1.  0.  4.  1. 10.  0.  0.  0.  1.  3.  0.]\n",
            " [ 1.  0.  0.  2.  2. 19.  1.  6.  1.  2.  1.  1.  1.  0. 12.  1.  0.  1.\n",
            "   1.  0.  1.  1.  1.  0.  0.  0.  1.  2.  0.]]\n"
          ],
          "name": "stdout"
        }
      ]
    },
    {
      "cell_type": "code",
      "metadata": {
        "id": "pJubLm_-Zk0t",
        "colab": {
          "base_uri": "https://localhost:8080/",
          "height": 51
        },
        "outputId": "a7fe9798-6a59-44f5-cad7-748db28f285b"
      },
      "source": [
        "#Splitting Inputs and Output\n",
        "X=dataset[:,:28] #Inputs\n",
        "y=dataset[:,28]  #Output\n",
        "#y = np.row_stack(dataset[:,28]) #Testing \n",
        "#z = np.row_stack(dataset[:,27]) #time In Minutes\n",
        "#z = dataset[:,27] #time In Minutes\n",
        "print(X.shape)\n",
        "print(y.shape)\n",
        "#print(z.shape)\n",
        "#print(z[0,0])"
      ],
      "execution_count": null,
      "outputs": [
        {
          "output_type": "stream",
          "text": [
            "(33654, 28)\n",
            "(33654,)\n"
          ],
          "name": "stdout"
        }
      ]
    },
    {
      "cell_type": "code",
      "metadata": {
        "id": "urU3b9TMLkYF",
        "colab": {
          "base_uri": "https://localhost:8080/",
          "height": 34
        },
        "outputId": "f97745c1-15d0-48ff-8a7d-73e836e336c7"
      },
      "source": [
        "#OneHotEncode Data\n",
        "\n",
        "from sklearn.preprocessing import OneHotEncoder\n",
        "enc = OneHotEncoder(drop='first', sparse=False)\n",
        "Xenc = enc.fit(X[:,:28]).transform(X[:,:29])\n",
        "print(Xenc.shape)\n",
        "#print(z.shape)\n",
        "#Xenc = np.append(Xenc, z, axis=1)\n",
        "#print(Xenc.shape)"
      ],
      "execution_count": null,
      "outputs": [
        {
          "output_type": "stream",
          "text": [
            "(33654, 404)\n"
          ],
          "name": "stdout"
        }
      ]
    },
    {
      "cell_type": "code",
      "metadata": {
        "id": "E9YoR1EmLRML",
        "colab": {
          "base_uri": "https://localhost:8080/",
          "height": 86
        },
        "outputId": "d718207a-4ee9-4b6d-acf8-1a15a79b2229"
      },
      "source": [
        "#Train Test Split and seed\n",
        "from sklearn.model_selection import train_test_split\n",
        "XTRAIN, XVALID, YTRAIN, YVALID = train_test_split(Xenc, y, random_state= 4300, \n",
        "test_size = .15, shuffle=True) #, stratify=y )\n",
        "print(XTRAIN.shape)\n",
        "print(XVALID.shape)\n",
        "print(YTRAIN.shape)\n",
        "print(YVALID.shape)\n",
        "\n",
        "#Normalize test Group \n",
        "from sklearn.preprocessing import StandardScaler\n",
        "scaler = StandardScaler()\n",
        "scaler.fit(XTRAIN)\n",
        "\n",
        "XTRAIN = scaler.transform(XTRAIN)\n",
        "XVALID = scaler.transform(XVALID)"
      ],
      "execution_count": null,
      "outputs": [
        {
          "output_type": "stream",
          "text": [
            "(28605, 404)\n",
            "(5049, 404)\n",
            "(28605,)\n",
            "(5049,)\n"
          ],
          "name": "stdout"
        }
      ]
    },
    {
      "cell_type": "code",
      "metadata": {
        "id": "OVs1iUIHMqAS",
        "colab": {
          "base_uri": "https://localhost:8080/",
          "height": 86
        },
        "outputId": "c749f2cd-dbe2-4d41-bdaa-d8cd34df4fb5"
      },
      "source": [
        "#Verify Shapes of XTRAIN/VALID YTRAIN/VALID\n",
        "print(\"Training Shape: \" + str(XTRAIN.shape))\n",
        "print(\"Training Output Shape: \" + str(YTRAIN.shape))\n",
        "print(\"Validation Shape: \" + str(XVALID.shape))\n",
        "print(\"Validation Output Shape: \" + str(YVALID.shape))"
      ],
      "execution_count": null,
      "outputs": [
        {
          "output_type": "stream",
          "text": [
            "Training Shape: (28605, 404)\n",
            "Training Output Shape: (28605,)\n",
            "Validation Shape: (5049, 404)\n",
            "Validation Output Shape: (5049,)\n"
          ],
          "name": "stdout"
        }
      ]
    },
    {
      "cell_type": "code",
      "metadata": {
        "id": "tQ7_MOjYOmbB",
        "colab": {
          "base_uri": "https://localhost:8080/",
          "height": 118
        },
        "outputId": "b6a073e0-dd47-4517-873b-febcca8932f0"
      },
      "source": [
        "print(\"Total Drunk Drivers for Training Data: \" + str(sum(YTRAIN)))\n",
        "print(\"Total Drunk Drivers for Validation Data: \" + str(sum(YVALID)))\n",
        "print(\"Total Drunk Drivers in Training and Validation: \" + str(sum(YTRAIN)+sum(YVALID)))\n",
        "print(\"Total Drunk Drivers from Original Dataset: \" +str(sum(dataset[:,28])))\n",
        "print()\n",
        "ratio = (100*(1-8379/33654))\n",
        "print(\"Percent of the incidents not involving a drunk driver %.2f%%\" % ratio)"
      ],
      "execution_count": null,
      "outputs": [
        {
          "output_type": "stream",
          "text": [
            "Total Drunk Drivers for Training Data: 7129.0\n",
            "Total Drunk Drivers for Validation Data: 1250.0\n",
            "Total Drunk Drivers in Training and Validation: 8379.0\n",
            "Total Drunk Drivers from Original Dataset: 8379.0\n",
            "\n",
            "Percent of the incidents not involving a drunk driver 75.10%\n"
          ],
          "name": "stdout"
        }
      ]
    },
    {
      "cell_type": "code",
      "metadata": {
        "id": "T637Ix3AcVZc",
        "colab": {
          "base_uri": "https://localhost:8080/",
          "height": 34
        },
        "outputId": "192ddfa3-2dd7-4b5d-9c1b-456d38316710"
      },
      "source": [
        "from tensorflow.keras.models import Sequential\n",
        "from tensorflow.keras.layers import Dense\n",
        "from keras.metrics import categorical_accuracy\n",
        "from keras.optimizers import SGD\n",
        "from keras.optimizers import adam\n",
        "from keras.regularizers import l2\n",
        "from tensorflow.keras.callbacks import EarlyStopping, ModelCheckpoint\n",
        "\n",
        "model = Sequential()\n",
        "model.add(Dense(10, input_dim = 404, kernel_initializer='normal', activation='sigmoid'))\n",
        "model.add(Dense(1, activation='sigmoid'))"
      ],
      "execution_count": null,
      "outputs": [
        {
          "output_type": "stream",
          "text": [
            "Using TensorFlow backend.\n"
          ],
          "name": "stderr"
        }
      ]
    },
    {
      "cell_type": "code",
      "metadata": {
        "id": "1qZN8u_Tcbga",
        "colab": {
          "base_uri": "https://localhost:8080/",
          "height": 1000
        },
        "outputId": "17caefad-5b1f-40c9-c92f-a8c2f459deb8"
      },
      "source": [
        "model.compile(loss='binary_crossentropy', optimizer='adam', metrics=['binary_accuracy'])\n",
        "\n",
        "callback_a = ModelCheckpoint(filepath= 'project.hdf5', monitor='val_loss', save_best_only = True, save_weights_only = True, verbose = 1)\n",
        "callback_b = EarlyStopping(monitor = 'val_loss', mode = 'min', patience = 50, verbose=1)\n",
        "history = model.fit(XTRAIN, YTRAIN, batch_size=23000, epochs=2000, verbose=1, validation_data=(XVALID, YVALID), callbacks=[callback_a, callback_b]) \n",
        "print(history.params)"
      ],
      "execution_count": null,
      "outputs": [
        {
          "output_type": "stream",
          "text": [
            "Epoch 1/2000\n",
            "1/2 [==============>...............] - ETA: 0s - loss: 0.4233 - binary_accuracy: 0.8075\n",
            "Epoch 00001: val_loss improved from inf to 0.45011, saving model to project.hdf5\n",
            "2/2 [==============================] - 0s 60ms/step - loss: 0.4217 - binary_accuracy: 0.8080 - val_loss: 0.4501 - val_binary_accuracy: 0.7895\n",
            "Epoch 2/2000\n",
            "1/2 [==============>...............] - ETA: 0s - loss: 0.4217 - binary_accuracy: 0.8078\n",
            "Epoch 00002: val_loss did not improve from 0.45011\n",
            "2/2 [==============================] - 0s 28ms/step - loss: 0.4236 - binary_accuracy: 0.8079 - val_loss: 0.4501 - val_binary_accuracy: 0.7891\n",
            "Epoch 3/2000\n",
            "1/2 [==============>...............] - ETA: 0s - loss: 0.4257 - binary_accuracy: 0.8047\n",
            "Epoch 00003: val_loss did not improve from 0.45011\n",
            "2/2 [==============================] - 0s 27ms/step - loss: 0.4170 - binary_accuracy: 0.8081 - val_loss: 0.4501 - val_binary_accuracy: 0.7895\n",
            "Epoch 4/2000\n",
            "1/2 [==============>...............] - ETA: 0s - loss: 0.4246 - binary_accuracy: 0.8073\n",
            "Epoch 00004: val_loss did not improve from 0.45011\n",
            "2/2 [==============================] - 0s 26ms/step - loss: 0.4184 - binary_accuracy: 0.8081 - val_loss: 0.4502 - val_binary_accuracy: 0.7891\n",
            "Epoch 5/2000\n",
            "1/2 [==============>...............] - ETA: 0s - loss: 0.4185 - binary_accuracy: 0.8089\n",
            "Epoch 00005: val_loss did not improve from 0.45011\n",
            "2/2 [==============================] - 0s 28ms/step - loss: 0.4275 - binary_accuracy: 0.8080 - val_loss: 0.4502 - val_binary_accuracy: 0.7887\n",
            "Epoch 6/2000\n",
            "1/2 [==============>...............] - ETA: 0s - loss: 0.4203 - binary_accuracy: 0.8094\n",
            "Epoch 00006: val_loss did not improve from 0.45011\n",
            "2/2 [==============================] - 0s 26ms/step - loss: 0.4245 - binary_accuracy: 0.8079 - val_loss: 0.4502 - val_binary_accuracy: 0.7887\n",
            "Epoch 7/2000\n",
            "1/2 [==============>...............] - ETA: 0s - loss: 0.4217 - binary_accuracy: 0.8081\n",
            "Epoch 00007: val_loss did not improve from 0.45011\n",
            "2/2 [==============================] - 0s 26ms/step - loss: 0.4220 - binary_accuracy: 0.8081 - val_loss: 0.4503 - val_binary_accuracy: 0.7889\n",
            "Epoch 8/2000\n",
            "1/2 [==============>...............] - ETA: 0s - loss: 0.4233 - binary_accuracy: 0.8056\n",
            "Epoch 00008: val_loss did not improve from 0.45011\n",
            "2/2 [==============================] - 0s 30ms/step - loss: 0.4193 - binary_accuracy: 0.8080 - val_loss: 0.4503 - val_binary_accuracy: 0.7893\n",
            "Epoch 9/2000\n",
            "1/2 [==============>...............] - ETA: 0s - loss: 0.4206 - binary_accuracy: 0.8083\n",
            "Epoch 00009: val_loss did not improve from 0.45011\n",
            "2/2 [==============================] - 0s 26ms/step - loss: 0.4231 - binary_accuracy: 0.8080 - val_loss: 0.4503 - val_binary_accuracy: 0.7897\n",
            "Epoch 10/2000\n",
            "1/2 [==============>...............] - ETA: 0s - loss: 0.4202 - binary_accuracy: 0.8099\n",
            "Epoch 00010: val_loss did not improve from 0.45011\n",
            "2/2 [==============================] - 0s 29ms/step - loss: 0.4235 - binary_accuracy: 0.8083 - val_loss: 0.4503 - val_binary_accuracy: 0.7897\n",
            "Epoch 11/2000\n",
            "1/2 [==============>...............] - ETA: 0s - loss: 0.4200 - binary_accuracy: 0.8104\n",
            "Epoch 00011: val_loss did not improve from 0.45011\n",
            "2/2 [==============================] - 0s 26ms/step - loss: 0.4235 - binary_accuracy: 0.8085 - val_loss: 0.4504 - val_binary_accuracy: 0.7895\n",
            "Epoch 12/2000\n",
            "1/2 [==============>...............] - ETA: 0s - loss: 0.4195 - binary_accuracy: 0.8098\n",
            "Epoch 00012: val_loss did not improve from 0.45011\n",
            "2/2 [==============================] - 0s 25ms/step - loss: 0.4240 - binary_accuracy: 0.8087 - val_loss: 0.4504 - val_binary_accuracy: 0.7897\n",
            "Epoch 13/2000\n",
            "1/2 [==============>...............] - ETA: 0s - loss: 0.4224 - binary_accuracy: 0.8089\n",
            "Epoch 00013: val_loss did not improve from 0.45011\n",
            "2/2 [==============================] - 0s 27ms/step - loss: 0.4192 - binary_accuracy: 0.8086 - val_loss: 0.4504 - val_binary_accuracy: 0.7891\n",
            "Epoch 14/2000\n",
            "1/2 [==============>...............] - ETA: 0s - loss: 0.4219 - binary_accuracy: 0.8086\n",
            "Epoch 00014: val_loss did not improve from 0.45011\n",
            "2/2 [==============================] - 0s 26ms/step - loss: 0.4197 - binary_accuracy: 0.8085 - val_loss: 0.4504 - val_binary_accuracy: 0.7895\n",
            "Epoch 15/2000\n",
            "1/2 [==============>...............] - ETA: 0s - loss: 0.4239 - binary_accuracy: 0.8077\n",
            "Epoch 00015: val_loss did not improve from 0.45011\n",
            "2/2 [==============================] - 0s 26ms/step - loss: 0.4164 - binary_accuracy: 0.8086 - val_loss: 0.4505 - val_binary_accuracy: 0.7897\n",
            "Epoch 16/2000\n",
            "1/2 [==============>...............] - ETA: 0s - loss: 0.4210 - binary_accuracy: 0.8093\n",
            "Epoch 00016: val_loss did not improve from 0.45011\n",
            "2/2 [==============================] - 0s 27ms/step - loss: 0.4206 - binary_accuracy: 0.8086 - val_loss: 0.4505 - val_binary_accuracy: 0.7897\n",
            "Epoch 17/2000\n",
            "1/2 [==============>...............] - ETA: 0s - loss: 0.4226 - binary_accuracy: 0.8068\n",
            "Epoch 00017: val_loss did not improve from 0.45011\n",
            "2/2 [==============================] - 0s 26ms/step - loss: 0.4179 - binary_accuracy: 0.8086 - val_loss: 0.4505 - val_binary_accuracy: 0.7903\n",
            "Epoch 18/2000\n",
            "1/2 [==============>...............] - ETA: 0s - loss: 0.4228 - binary_accuracy: 0.8079\n",
            "Epoch 00018: val_loss did not improve from 0.45011\n",
            "2/2 [==============================] - 0s 30ms/step - loss: 0.4172 - binary_accuracy: 0.8087 - val_loss: 0.4505 - val_binary_accuracy: 0.7908\n",
            "Epoch 19/2000\n",
            "1/2 [==============>...............] - ETA: 0s - loss: 0.4233 - binary_accuracy: 0.8076\n",
            "Epoch 00019: val_loss did not improve from 0.45011\n",
            "2/2 [==============================] - 0s 26ms/step - loss: 0.4162 - binary_accuracy: 0.8089 - val_loss: 0.4506 - val_binary_accuracy: 0.7905\n",
            "Epoch 20/2000\n",
            "1/2 [==============>...............] - ETA: 0s - loss: 0.4211 - binary_accuracy: 0.8086\n",
            "Epoch 00020: val_loss did not improve from 0.45011\n",
            "2/2 [==============================] - 0s 30ms/step - loss: 0.4193 - binary_accuracy: 0.8089 - val_loss: 0.4506 - val_binary_accuracy: 0.7903\n",
            "Epoch 21/2000\n",
            "1/2 [==============>...............] - ETA: 0s - loss: 0.4196 - binary_accuracy: 0.8104\n",
            "Epoch 00021: val_loss did not improve from 0.45011\n",
            "2/2 [==============================] - 0s 29ms/step - loss: 0.4214 - binary_accuracy: 0.8091 - val_loss: 0.4507 - val_binary_accuracy: 0.7908\n",
            "Epoch 22/2000\n",
            "1/2 [==============>...............] - ETA: 0s - loss: 0.4197 - binary_accuracy: 0.8082\n",
            "Epoch 00022: val_loss did not improve from 0.45011\n",
            "2/2 [==============================] - 0s 27ms/step - loss: 0.4210 - binary_accuracy: 0.8092 - val_loss: 0.4507 - val_binary_accuracy: 0.7903\n",
            "Epoch 23/2000\n",
            "1/2 [==============>...............] - ETA: 0s - loss: 0.4183 - binary_accuracy: 0.8095\n",
            "Epoch 00023: val_loss did not improve from 0.45011\n",
            "2/2 [==============================] - 0s 26ms/step - loss: 0.4228 - binary_accuracy: 0.8093 - val_loss: 0.4507 - val_binary_accuracy: 0.7903\n",
            "Epoch 24/2000\n",
            "1/2 [==============>...............] - ETA: 0s - loss: 0.4184 - binary_accuracy: 0.8105\n",
            "Epoch 00024: val_loss did not improve from 0.45011\n",
            "2/2 [==============================] - 0s 26ms/step - loss: 0.4225 - binary_accuracy: 0.8094 - val_loss: 0.4508 - val_binary_accuracy: 0.7905\n",
            "Epoch 25/2000\n",
            "1/2 [==============>...............] - ETA: 0s - loss: 0.4194 - binary_accuracy: 0.8101\n",
            "Epoch 00025: val_loss did not improve from 0.45011\n",
            "2/2 [==============================] - 0s 26ms/step - loss: 0.4207 - binary_accuracy: 0.8094 - val_loss: 0.4508 - val_binary_accuracy: 0.7903\n",
            "Epoch 26/2000\n",
            "1/2 [==============>...............] - ETA: 0s - loss: 0.4179 - binary_accuracy: 0.8123\n",
            "Epoch 00026: val_loss did not improve from 0.45011\n",
            "2/2 [==============================] - 0s 26ms/step - loss: 0.4228 - binary_accuracy: 0.8096 - val_loss: 0.4509 - val_binary_accuracy: 0.7907\n",
            "Epoch 27/2000\n",
            "1/2 [==============>...............] - ETA: 0s - loss: 0.4183 - binary_accuracy: 0.8113\n",
            "Epoch 00027: val_loss did not improve from 0.45011\n",
            "2/2 [==============================] - 0s 26ms/step - loss: 0.4218 - binary_accuracy: 0.8095 - val_loss: 0.4509 - val_binary_accuracy: 0.7905\n",
            "Epoch 28/2000\n",
            "1/2 [==============>...............] - ETA: 0s - loss: 0.4226 - binary_accuracy: 0.8079\n",
            "Epoch 00028: val_loss did not improve from 0.45011\n",
            "2/2 [==============================] - 0s 26ms/step - loss: 0.4149 - binary_accuracy: 0.8095 - val_loss: 0.4509 - val_binary_accuracy: 0.7901\n",
            "Epoch 29/2000\n",
            "1/2 [==============>...............] - ETA: 0s - loss: 0.4178 - binary_accuracy: 0.8117\n",
            "Epoch 00029: val_loss did not improve from 0.45011\n",
            "2/2 [==============================] - 0s 27ms/step - loss: 0.4221 - binary_accuracy: 0.8095 - val_loss: 0.4509 - val_binary_accuracy: 0.7901\n",
            "Epoch 30/2000\n",
            "1/2 [==============>...............] - ETA: 0s - loss: 0.4199 - binary_accuracy: 0.8093\n",
            "Epoch 00030: val_loss did not improve from 0.45011\n",
            "2/2 [==============================] - 0s 35ms/step - loss: 0.4186 - binary_accuracy: 0.8094 - val_loss: 0.4510 - val_binary_accuracy: 0.7897\n",
            "Epoch 31/2000\n",
            "1/2 [==============>...............] - ETA: 0s - loss: 0.4209 - binary_accuracy: 0.8093\n",
            "Epoch 00031: val_loss did not improve from 0.45011\n",
            "2/2 [==============================] - 0s 28ms/step - loss: 0.4168 - binary_accuracy: 0.8096 - val_loss: 0.4510 - val_binary_accuracy: 0.7897\n",
            "Epoch 32/2000\n",
            "1/2 [==============>...............] - ETA: 0s - loss: 0.4224 - binary_accuracy: 0.8070\n",
            "Epoch 00032: val_loss did not improve from 0.45011\n",
            "2/2 [==============================] - 0s 27ms/step - loss: 0.4142 - binary_accuracy: 0.8095 - val_loss: 0.4510 - val_binary_accuracy: 0.7899\n",
            "Epoch 33/2000\n",
            "1/2 [==============>...............] - ETA: 0s - loss: 0.4209 - binary_accuracy: 0.8075\n",
            "Epoch 00033: val_loss did not improve from 0.45011\n",
            "2/2 [==============================] - 0s 27ms/step - loss: 0.4163 - binary_accuracy: 0.8096 - val_loss: 0.4510 - val_binary_accuracy: 0.7899\n",
            "Epoch 34/2000\n",
            "1/2 [==============>...............] - ETA: 0s - loss: 0.4183 - binary_accuracy: 0.8093\n",
            "Epoch 00034: val_loss did not improve from 0.45011\n",
            "2/2 [==============================] - 0s 26ms/step - loss: 0.4201 - binary_accuracy: 0.8096 - val_loss: 0.4510 - val_binary_accuracy: 0.7901\n",
            "Epoch 35/2000\n",
            "1/2 [==============>...............] - ETA: 0s - loss: 0.4172 - binary_accuracy: 0.8104\n",
            "Epoch 00035: val_loss did not improve from 0.45011\n",
            "2/2 [==============================] - 0s 27ms/step - loss: 0.4215 - binary_accuracy: 0.8098 - val_loss: 0.4511 - val_binary_accuracy: 0.7901\n",
            "Epoch 36/2000\n",
            "1/2 [==============>...............] - ETA: 0s - loss: 0.4187 - binary_accuracy: 0.8106\n",
            "Epoch 00036: val_loss did not improve from 0.45011\n",
            "2/2 [==============================] - 0s 27ms/step - loss: 0.4189 - binary_accuracy: 0.8098 - val_loss: 0.4511 - val_binary_accuracy: 0.7897\n",
            "Epoch 37/2000\n",
            "1/2 [==============>...............] - ETA: 0s - loss: 0.4189 - binary_accuracy: 0.8090\n",
            "Epoch 00037: val_loss did not improve from 0.45011\n",
            "2/2 [==============================] - 0s 29ms/step - loss: 0.4183 - binary_accuracy: 0.8097 - val_loss: 0.4512 - val_binary_accuracy: 0.7899\n",
            "Epoch 38/2000\n",
            "1/2 [==============>...............] - ETA: 0s - loss: 0.4155 - binary_accuracy: 0.8117\n",
            "Epoch 00038: val_loss did not improve from 0.45011\n",
            "2/2 [==============================] - 0s 26ms/step - loss: 0.4234 - binary_accuracy: 0.8097 - val_loss: 0.4512 - val_binary_accuracy: 0.7901\n",
            "Epoch 39/2000\n",
            "1/2 [==============>...............] - ETA: 0s - loss: 0.4176 - binary_accuracy: 0.8109\n",
            "Epoch 00039: val_loss did not improve from 0.45011\n",
            "2/2 [==============================] - 0s 30ms/step - loss: 0.4199 - binary_accuracy: 0.8098 - val_loss: 0.4512 - val_binary_accuracy: 0.7901\n",
            "Epoch 40/2000\n",
            "1/2 [==============>...............] - ETA: 0s - loss: 0.4171 - binary_accuracy: 0.8110\n",
            "Epoch 00040: val_loss did not improve from 0.45011\n",
            "2/2 [==============================] - 0s 27ms/step - loss: 0.4203 - binary_accuracy: 0.8102 - val_loss: 0.4512 - val_binary_accuracy: 0.7907\n",
            "Epoch 41/2000\n",
            "1/2 [==============>...............] - ETA: 0s - loss: 0.4218 - binary_accuracy: 0.8086\n",
            "Epoch 00041: val_loss did not improve from 0.45011\n",
            "2/2 [==============================] - 0s 28ms/step - loss: 0.4128 - binary_accuracy: 0.8104 - val_loss: 0.4512 - val_binary_accuracy: 0.7912\n",
            "Epoch 42/2000\n",
            "1/2 [==============>...............] - ETA: 0s - loss: 0.4181 - binary_accuracy: 0.8100\n",
            "Epoch 00042: val_loss did not improve from 0.45011\n",
            "2/2 [==============================] - 0s 36ms/step - loss: 0.4184 - binary_accuracy: 0.8103 - val_loss: 0.4513 - val_binary_accuracy: 0.7905\n",
            "Epoch 43/2000\n",
            "1/2 [==============>...............] - ETA: 0s - loss: 0.4209 - binary_accuracy: 0.8097\n",
            "Epoch 00043: val_loss did not improve from 0.45011\n",
            "2/2 [==============================] - 0s 27ms/step - loss: 0.4138 - binary_accuracy: 0.8106 - val_loss: 0.4513 - val_binary_accuracy: 0.7910\n",
            "Epoch 44/2000\n",
            "1/2 [==============>...............] - ETA: 0s - loss: 0.4183 - binary_accuracy: 0.8097\n",
            "Epoch 00044: val_loss did not improve from 0.45011\n",
            "2/2 [==============================] - 0s 26ms/step - loss: 0.4176 - binary_accuracy: 0.8106 - val_loss: 0.4513 - val_binary_accuracy: 0.7910\n",
            "Epoch 45/2000\n",
            "1/2 [==============>...............] - ETA: 0s - loss: 0.4169 - binary_accuracy: 0.8103\n",
            "Epoch 00045: val_loss did not improve from 0.45011\n",
            "2/2 [==============================] - 0s 27ms/step - loss: 0.4195 - binary_accuracy: 0.8106 - val_loss: 0.4513 - val_binary_accuracy: 0.7910\n",
            "Epoch 46/2000\n",
            "1/2 [==============>...............] - ETA: 0s - loss: 0.4169 - binary_accuracy: 0.8111\n",
            "Epoch 00046: val_loss did not improve from 0.45011\n",
            "2/2 [==============================] - 0s 26ms/step - loss: 0.4192 - binary_accuracy: 0.8107 - val_loss: 0.4514 - val_binary_accuracy: 0.7910\n",
            "Epoch 47/2000\n",
            "1/2 [==============>...............] - ETA: 0s - loss: 0.4181 - binary_accuracy: 0.8107\n",
            "Epoch 00047: val_loss did not improve from 0.45011\n",
            "2/2 [==============================] - 0s 26ms/step - loss: 0.4170 - binary_accuracy: 0.8110 - val_loss: 0.4514 - val_binary_accuracy: 0.7914\n",
            "Epoch 48/2000\n",
            "1/2 [==============>...............] - ETA: 0s - loss: 0.4175 - binary_accuracy: 0.8100\n",
            "Epoch 00048: val_loss did not improve from 0.45011\n",
            "2/2 [==============================] - 0s 27ms/step - loss: 0.4177 - binary_accuracy: 0.8112 - val_loss: 0.4514 - val_binary_accuracy: 0.7914\n",
            "Epoch 49/2000\n",
            "1/2 [==============>...............] - ETA: 0s - loss: 0.4139 - binary_accuracy: 0.8130\n",
            "Epoch 00049: val_loss did not improve from 0.45011\n",
            "2/2 [==============================] - 0s 30ms/step - loss: 0.4231 - binary_accuracy: 0.8111 - val_loss: 0.4514 - val_binary_accuracy: 0.7916\n",
            "Epoch 50/2000\n",
            "1/2 [==============>...............] - ETA: 0s - loss: 0.4170 - binary_accuracy: 0.8115\n",
            "Epoch 00050: val_loss did not improve from 0.45011\n",
            "2/2 [==============================] - 0s 28ms/step - loss: 0.4179 - binary_accuracy: 0.8111 - val_loss: 0.4514 - val_binary_accuracy: 0.7920\n",
            "Epoch 51/2000\n",
            "1/2 [==============>...............] - ETA: 0s - loss: 0.4154 - binary_accuracy: 0.8122\n",
            "Epoch 00051: val_loss did not improve from 0.45011\n",
            "2/2 [==============================] - 0s 27ms/step - loss: 0.4202 - binary_accuracy: 0.8114 - val_loss: 0.4515 - val_binary_accuracy: 0.7920\n",
            "Epoch 00051: early stopping\n",
            "{'verbose': 1, 'epochs': 2000, 'steps': 2}\n"
          ],
          "name": "stdout"
        }
      ]
    },
    {
      "cell_type": "code",
      "metadata": {
        "id": "_W9XBN98kzqI",
        "colab": {
          "base_uri": "https://localhost:8080/",
          "height": 759
        },
        "outputId": "7b665aa8-e6cb-47e9-acac-f8686dbaada4"
      },
      "source": [
        "model.load_weights('project.hdf5')\n",
        "\n",
        "# Check what's in the history\n",
        "import matplotlib.pyplot as plt\n",
        "import matplotlib.pyplot as plt2\n",
        "print(history.params)\n",
        "# Plot the learning curves (loss/accuracy/MAE)\n",
        "plt.plot(history.history['loss']) # replace with accuracy/MAE\n",
        "plt.plot(history.history['val_loss']) # replace with val_accuracy, etc.\n",
        "plt.ylabel('Loss')\n",
        "plt.xlabel('epoch')\n",
        "plt.legend(['training data', 'validation data'], loc='upper right')\n",
        "plt.show()\n",
        "# Plot the learning curves (loss/accuracy/MAE)\n",
        "plt.plot(history.history['binary_accuracy']) # replace with accuracy/MAE\n",
        "plt.plot(history.history['val_binary_accuracy']) # replace with val_accuracy, etc.\n",
        "plt.ylabel('Accuracy')\n",
        "plt.xlabel('epoch')\n",
        "plt.legend(['training data', 'validation data'], loc='lower right')\n",
        "plt2.show()\n",
        "model.summary()"
      ],
      "execution_count": null,
      "outputs": [
        {
          "output_type": "stream",
          "text": [
            "{'verbose': 1, 'epochs': 2000, 'steps': 2}\n"
          ],
          "name": "stdout"
        },
        {
          "output_type": "display_data",
          "data": {
            "image/png": "[encoded data removed]",
            "text/plain": [
              "<Figure size 432x288 with 1 Axes>"
            ]
          },
          "metadata": {
            "tags": [],
            "needs_background": "light"
          }
        },
        {
          "output_type": "display_data",
          "data": {
            "image/png": "[encoded data removed]",
            "text/plain": [
              "<Figure size 432x288 with 1 Axes>"
            ]
          },
          "metadata": {
            "tags": [],
            "needs_background": "light"
          }
        },
        {
          "output_type": "stream",
          "text": [
            "Model: \"sequential\"\n",
            "_________________________________________________________________\n",
            "Layer (type)                 Output Shape              Param #   \n",
            "=================================================================\n",
            "dense (Dense)                (None, 10)                4050      \n",
            "_________________________________________________________________\n",
            "dense_1 (Dense)              (None, 1)                 11        \n",
            "=================================================================\n",
            "Total params: 4,061\n",
            "Trainable params: 4,061\n",
            "Non-trainable params: 0\n",
            "_________________________________________________________________\n"
          ],
          "name": "stdout"
        }
      ]
    },
    {
      "cell_type": "code",
      "metadata": {
        "id": "A4GsIuNXfhEE",
        "colab": {
          "base_uri": "https://localhost:8080/",
          "height": 137
        },
        "outputId": "6f4222e1-30d5-4e15-a5e5-f60074ec3202"
      },
      "source": [
        "from sklearn.metrics import accuracy_score, precision_score, recall_score, f1_score\n",
        "np.set_printoptions(precision = 2)\n",
        "\n",
        "prediction = model.predict(XVALID)\n",
        "prediction = np.round(np.clip(model.predict(XVALID), 0, 1)) # binary\n",
        "\n",
        "Validation_Accuracy = accuracy_score(YVALID, prediction.round())\n",
        "Validation_Precision = precision_score(YVALID, prediction.round())\n",
        "Validation_Recall = recall_score(YVALID, prediction.round())\n",
        "Validation_F1score = f1_score(YVALID, prediction.round())\n",
        "\n",
        "print(\"Validation Accuracy: %.2f%%\" % (Validation_Accuracy * 100.0))\n",
        "print(\"Validation Precision: %.2f%%\" % (Validation_Precision * 100.0))\n",
        "print(\"Validation Recall: %.2f%%\" % (Validation_Recall * 100.0))\n",
        "print(\"Validation F1-score: %.2f\" % (Validation_F1score))\n",
        "print()\n",
        "result = (100*Validation_Accuracy)-ratio\n",
        "print(\"Model's predicted outcome rated against assuming \\n\"\n",
        "+ \"non-intoxicated involvment for all cases of %.2f%%\"  %result +\" points.\")"
      ],
      "execution_count": null,
      "outputs": [
        {
          "output_type": "stream",
          "text": [
            "Validation Accuracy: 79.12%\n",
            "Validation Precision: 62.56%\n",
            "Validation Recall: 39.04%\n",
            "Validation F1-score: 0.48\n",
            "\n",
            "Model's predicted outcome rated against assuming \n",
            "non-intoxicated involvment for all cases of 4.02% points.\n"
          ],
          "name": "stdout"
        }
      ]
    }
  ]
}