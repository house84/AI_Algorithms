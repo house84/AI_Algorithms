{
  "nbformat": 4,
  "nbformat_minor": 0,
  "metadata": {
    "colab": {
      "name": "Activity16PageRankAlgo.ipynb",
      "provenance": []
    },
    "kernelspec": {
      "name": "python3",
      "display_name": "Python 3"
    }
  },
  "cells": [
    {
      "cell_type": "code",
      "metadata": {
        "id": "w5nclsQTXkm7",
        "colab": {
          "base_uri": "https://localhost:8080/",
          "height": 119
        },
        "outputId": "cdfa2848-0dd3-45c0-fe85-fa7a3947e572"
      },
      "source": [
        "# Page Rank Algorithm\n",
        "# PR(p) = (1-d)/N + d*(summation(PR(INi)/C(INi))\n",
        "# where PR(p) = Page rank of page P\n",
        "# N is total number of pages in the corpus\n",
        "# INi is the pages that link to P\n",
        "# C(INi) is the count of the total number of out-links on page INi\n",
        "# d is a damping factor \n",
        "\n",
        "# Step1. Initialize the constants N and d\n",
        "N = 4\n",
        "# d is assumed as .7\n",
        "d = 0.7\n",
        "\n",
        "# Step2. Assume that all page ranks are 1.0 at the beginning\n",
        "prA = 1.0\n",
        "prB = 1.0\n",
        "prC = 1.0\n",
        "prD = 1.0\n",
        "\n",
        "#Constant factor for PageRank Algorithm (1-d)/N, were d= .7 and N = 4\n",
        "constant = (1-d)/N\n",
        "\n",
        "# Step3 Create loop to iteratively update page ranks\n",
        "for i in range(100): \n",
        "  prA = constant + (d * prC/3)\n",
        "  prB = constant + (d * (prC/3 + prA/2))\n",
        "  prC = constant + (d * (prA/2 + prD))\n",
        "  prD = constant + (d * (prC/3 + prB))\n",
        "\n",
        "  sum = prA+prB+prC+prD\n",
        "\n",
        "#Step4. Print page ranks\n",
        "  if(sum == previous):\n",
        "    print(\"Final Page Ranks were found on iteration \" + str(i))\n",
        "    print(\"PR(A): \" + str(prA))\n",
        "    print(\"PR(B): \" + str(prB))\n",
        "    print(\"PR(C): \" + str(prC))\n",
        "    print(\"PR(D): \" + str(prD))\n",
        "    print()\n",
        "    break\n",
        "\n",
        "  previous = prA+prB+prC+prD"
      ],
      "execution_count": null,
      "outputs": [
        {
          "output_type": "stream",
          "text": [
            "Final Page Ranks were found on iteration 60\n",
            "PR(A): 0.1539998335136935\n",
            "PR(B): 0.2078997752434862\n",
            "PR(C): 0.3385707150586864\n",
            "PR(D): 0.29952967618413384\n",
            "\n"
          ],
          "name": "stdout"
        }
      ]
    }
  ]
}